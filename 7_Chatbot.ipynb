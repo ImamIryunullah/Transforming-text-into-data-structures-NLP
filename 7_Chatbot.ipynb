{
  "cells": [
    {
      "cell_type": "code",
      "execution_count": 9,
      "metadata": {
        "id": "xzquyehrEdTJ"
      },
      "outputs": [],
      "source": [
        "#!pip install scikit-learn\n",
        "import numpy as np\n",
        "from sklearn.feature_extraction.text import TfidfTransformer\n",
        "from sklearn.metrics.pairwise import cosine_similarity\n",
        "from sklearn.feature_extraction.text import CountVectorizer\n",
        "\n",
        "\n",
        "#loading questions and answers in separate lists\n",
        "import ast\n",
        "questions = []  \n",
        "answers = []\n",
        "with open('qa_Electronics.json','r') as f:\n",
        "    for line in f:\n",
        "        data = ast.literal_eval(line)\n",
        "        questions.append(data['question'].lower())\n",
        "        answers.append(data['answer'].lower())"
      ]
    },
    {
      "cell_type": "code",
      "execution_count": 10,
      "metadata": {
        "id": "az3A8K2uEdTK"
      },
      "outputs": [
        {
          "name": "stdout",
          "output_type": "stream",
          "text": [
            "314263\n",
            "['is this cover the one that fits the old nook color? which i believe is 8x5.', 'does it fit nook glowlight?', 'would it fit nook 1st edition? 4.9in x 7.7in ?', \"will this fit a nook color that's 5 x 8?\", 'will this fit the samsung galaxy tab 4 nook 10.1', 'does it have a flip stand?', 'does this have a flip stand', 'also fits the hd+?', 'does it have 2 positions for the reader? horizontal/vertical thank you kwod', 'is there a closure mechanism? bands, magnetic, etc.?']\n"
          ]
        }
      ],
      "source": [
        "# tokenize the text and convert data in matrix format\n",
        "from sklearn.feature_extraction.text import CountVectorizer\n",
        "vectorizer = CountVectorizer(stop_words='english')\n",
        "X_vec = vectorizer.fit_transform(questions)\n",
        "print(len(questions))\n",
        "print(questions[:10])"
      ]
    },
    {
      "cell_type": "code",
      "execution_count": 11,
      "metadata": {
        "id": "mGRdR8eEEdTL"
      },
      "outputs": [],
      "source": [
        "# Transform data by applying term frequency inverse document frequency (TF-IDF)\n",
        "tfidf = TfidfTransformer() #by default applies \"l2\" normalization\n",
        "X_tfidf = tfidf.fit_transform(X_vec)"
      ]
    },
    {
      "cell_type": "code",
      "execution_count": 12,
      "metadata": {
        "id": "np9OhsfyEdTL"
      },
      "outputs": [
        {
          "name": "stdout",
          "output_type": "stream",
          "text": [
            "support: Hi, welcome to Q&A support. How can I help you?\n",
            "Q&A support: Sorry, I did not quite understand that.\n",
            "Q&A support: it's made in china with the materials coming from the us.\n",
            "Q&A support: mine has a \"made in china\" sticker. i've had it since christmas 2012 and am still using it. i like that it accommodate the wide plugs.\n",
            "Q&A support: hi, thanks for your question. because this tripod is temporarily out of stock, we're unable to view any information relating to it's price. you can click on the \"e-mail me\" button on the top right-hand side of the product page, to be notified when this item is back in stock. you'll be able to view the price then. i hope this helps!\n",
            "Q&A support: once you've transferred the vinal to digital you can burn a cd or use it the way any digital items are used. the software is a separate free download. the instructions are included.\n",
            "Q&A support: Thanks for chatting, session ended automatically after 5 questions.\n"
          ]
        }
      ],
      "source": [
        "def conversation(im):\n",
        "    global tfidf, answers, X_tfidf\n",
        "    Y_vec = vectorizer.transform(im)\n",
        "    Y_tfidf = tfidf.transform(Y_vec)\n",
        "\n",
        "    similarities = cosine_similarity(Y_tfidf, X_tfidf)[0]\n",
        "    best_score = similarities.max()\n",
        "    best_index = similarities.argmax()\n",
        "\n",
        "    if best_score < 0.3: \n",
        "        return \"Sorry, I did not quite understand that.\"\n",
        "    else:\n",
        "        return answers[best_index]\n",
        "\n",
        "\n",
        "def main(max_turns=5):\n",
        "    usr = input(\"Please enter your username: \")\n",
        "    print(\"support: Hi, welcome to Q&A support. How can I help you?\")\n",
        "    \n",
        "    for turn in range(max_turns):\n",
        "        im = input(f\"{usr}: \")\n",
        "        if im.lower() == 'bye':\n",
        "            print(\"Q&A support: bye!\")\n",
        "            break\n",
        "        else:\n",
        "            print(\"Q&A support:\", conversation([im]))\n",
        "    else:\n",
        "        print(\"Q&A support: Thanks for chatting, session ended automatically after\", max_turns, \"questions.\")\n",
        "\n",
        "# jalankan chatbot\n",
        "main()\n"
      ]
    }
  ],
  "metadata": {
    "colab": {
      "provenance": []
    },
    "kernelspec": {
      "display_name": "base",
      "language": "python",
      "name": "python3"
    },
    "language_info": {
      "codemirror_mode": {
        "name": "ipython",
        "version": 3
      },
      "file_extension": ".py",
      "mimetype": "text/x-python",
      "name": "python",
      "nbconvert_exporter": "python",
      "pygments_lexer": "ipython3",
      "version": "3.12.5"
    }
  },
  "nbformat": 4,
  "nbformat_minor": 0
}
