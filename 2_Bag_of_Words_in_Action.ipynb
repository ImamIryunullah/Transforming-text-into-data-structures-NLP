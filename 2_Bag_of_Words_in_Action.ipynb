{
  "cells": [
    {
      "cell_type": "markdown",
      "metadata": {
        "id": "eNJkvKY_zf5P"
      },
      "source": [
        "# Bag of Words in Action\n",
        "\n",
        "@author: Aman Kedia"
      ]
    },
    {
      "cell_type": "code",
      "execution_count": 2,
      "metadata": {
        "id": "GJVYWPk-zf5R",
        "outputId": "2bda3b51-8fe5-43ee-ad28-071226d5ddf7"
      },
      "outputs": [
        {
          "name": "stdout",
          "output_type": "stream",
          "text": [
            "Requirement already satisfied: nltk in c:\\users\\imam\\miniforge3\\lib\\site-packages (3.9.1)\n",
            "Requirement already satisfied: click in c:\\users\\imam\\miniforge3\\lib\\site-packages (from nltk) (8.2.1)\n",
            "Requirement already satisfied: joblib in c:\\users\\imam\\miniforge3\\lib\\site-packages (from nltk) (1.5.2)\n",
            "Requirement already satisfied: regex>=2021.8.3 in c:\\users\\imam\\miniforge3\\lib\\site-packages (from nltk) (2025.9.1)\n",
            "Requirement already satisfied: tqdm in c:\\users\\imam\\miniforge3\\lib\\site-packages (from nltk) (4.66.5)\n",
            "Requirement already satisfied: colorama in c:\\users\\imam\\miniforge3\\lib\\site-packages (from click->nltk) (0.4.6)\n",
            "Requirement already satisfied: pandas in c:\\users\\imam\\miniforge3\\lib\\site-packages (2.3.2)\n",
            "Requirement already satisfied: numpy>=1.26.0 in c:\\users\\imam\\miniforge3\\lib\\site-packages (from pandas) (2.3.2)\n",
            "Requirement already satisfied: python-dateutil>=2.8.2 in c:\\users\\imam\\miniforge3\\lib\\site-packages (from pandas) (2.9.0.post0)\n",
            "Requirement already satisfied: pytz>=2020.1 in c:\\users\\imam\\miniforge3\\lib\\site-packages (from pandas) (2025.2)\n",
            "Requirement already satisfied: tzdata>=2022.7 in c:\\users\\imam\\miniforge3\\lib\\site-packages (from pandas) (2025.2)\n",
            "Requirement already satisfied: six>=1.5 in c:\\users\\imam\\miniforge3\\lib\\site-packages (from python-dateutil>=2.8.2->pandas) (1.17.0)\n"
          ]
        },
        {
          "name": "stderr",
          "output_type": "stream",
          "text": [
            "[nltk_data] Downloading package stopwords to\n",
            "[nltk_data]     C:\\Users\\IMAM\\AppData\\Roaming\\nltk_data...\n",
            "[nltk_data]   Package stopwords is already up-to-date!\n",
            "[nltk_data] Downloading package wordnet to\n",
            "[nltk_data]     C:\\Users\\IMAM\\AppData\\Roaming\\nltk_data...\n",
            "[nltk_data]   Package wordnet is already up-to-date!\n"
          ]
        }
      ],
      "source": [
        "!pip install nltk\n",
        "!pip install pandas\n",
        "import nltk\n",
        "nltk.download('stopwords')\n",
        "nltk.download('wordnet')\n",
        "from nltk.corpus import stopwords\n",
        "from nltk.stem.porter import PorterStemmer\n",
        "from nltk.stem.snowball import SnowballStemmer\n",
        "from nltk.stem.wordnet import WordNetLemmatizer\n",
        "import pandas as pd\n",
        "import re\n",
        "import numpy as np"
      ]
    },
    {
      "cell_type": "markdown",
      "metadata": {
        "id": "Xw1iZQHRzf5T"
      },
      "source": [
        "## Take in a list of sentences"
      ]
    },
    {
      "cell_type": "code",
      "execution_count": 3,
      "metadata": {
        "id": "A3Uq6wJ3zf5T"
      },
      "outputs": [],
      "source": [
        "sentences = [\"We are reading about Natural Language Processing Here\",\n",
        "            \"Natural Language Processing making computers comprehend language data\",\n",
        "            \"The field of Natural Language Processing is evolving everyday\"]"
      ]
    },
    {
      "cell_type": "markdown",
      "metadata": {
        "id": "yAsNGIJWzf5T"
      },
      "source": [
        "## Create a Pandas Series of the object"
      ]
    },
    {
      "cell_type": "code",
      "execution_count": 4,
      "metadata": {
        "id": "W7f4OhlCzf5U",
        "outputId": "a21da6f8-ccbf-47bd-ca2f-ce4d7711ed38"
      },
      "outputs": [
        {
          "data": {
            "text/plain": [
              "0    We are reading about Natural Language Processi...\n",
              "1    Natural Language Processing making computers c...\n",
              "2    The field of Natural Language Processing is ev...\n",
              "dtype: object"
            ]
          },
          "execution_count": 4,
          "metadata": {},
          "output_type": "execute_result"
        }
      ],
      "source": [
        "corpus = pd.Series(sentences)\n",
        "corpus"
      ]
    },
    {
      "cell_type": "markdown",
      "metadata": {
        "id": "r44mXT5uzf5U"
      },
      "source": [
        "## Data preprocessing"
      ]
    },
    {
      "cell_type": "code",
      "execution_count": 26,
      "metadata": {
        "id": "5L70S1Kwzf5V"
      },
      "outputs": [],
      "source": [
        "def text_clean(corpus, keep_list):\n",
        "    '''\n",
        "    Purpose : Function to keep only alphabets, digits and certain words \n",
        "              (punctuations, qmarks, tabs etc. removed)\n",
        "\n",
        "    Input : Takes a text corpus, 'corpus' to be cleaned along with a list of words, \n",
        "            'keep_list', which have to be retained even after the cleaning process\n",
        "\n",
        "    Output : Returns the cleaned text corpus\n",
        "    '''\n",
        "    cleaned_list = []   \n",
        "    for row in corpus:\n",
        "        qs = []\n",
        "        for word in row.split():\n",
        "            if word not in keep_list:\n",
        "                p1 = re.sub(pattern='[^a-zA-Z0-9]', repl=' ', string=word)\n",
        "                p1 = p1.lower()\n",
        "                qs.append(p1)\n",
        "            else:\n",
        "                qs.append(word)\n",
        "        cleaned_list.append(' '.join(qs))\n",
        "\n",
        "    return pd.Series(cleaned_list)\n"
      ]
    },
    {
      "cell_type": "code",
      "execution_count": 27,
      "metadata": {
        "id": "ombnbWfczf5W"
      },
      "outputs": [],
      "source": [
        "def stopwords_removal(corpus):\n",
        "    wh_words = ['who', 'what', 'when', 'why', 'how', 'which', 'where', 'whom']\n",
        "    stop = set(stopwords.words('english'))\n",
        "    for word in wh_words:\n",
        "        stop.remove(word)\n",
        "    corpus = [[x for x in x.split() if x not in stop] for x in corpus]\n",
        "    return corpus"
      ]
    },
    {
      "cell_type": "code",
      "execution_count": 28,
      "metadata": {
        "id": "BE-LeRGmzf5W"
      },
      "outputs": [],
      "source": [
        "def lemmatize(corpus):\n",
        "    lem = WordNetLemmatizer()\n",
        "    corpus = [[lem.lemmatize(x, pos = 'v') for x in x] for x in corpus]\n",
        "    return corpus"
      ]
    },
    {
      "cell_type": "code",
      "execution_count": 29,
      "metadata": {
        "id": "-cv-m6l0zf5X"
      },
      "outputs": [],
      "source": [
        "def stem(corpus, stem_type = None):\n",
        "    if stem_type == 'snowball':\n",
        "        stemmer = SnowballStemmer(language = 'english')\n",
        "        corpus = [[stemmer.stem(x) for x in x] for x in corpus]\n",
        "    else :\n",
        "        stemmer = PorterStemmer()\n",
        "        corpus = [[stemmer.stem(x) for x in x] for x in corpus]\n",
        "    return corpus"
      ]
    },
    {
      "cell_type": "code",
      "execution_count": 30,
      "metadata": {
        "id": "XKlLERpPzf5X"
      },
      "outputs": [],
      "source": [
        "def preprocess(corpus, keep_list, cleaning = True, stemming = False, stem_type = None, lemmatization = False, remove_stopwords = True):\n",
        "    '''\n",
        "    Purpose : Function to perform all pre-processing tasks (cleaning, stemming, lemmatization, stopwords removal etc.)\n",
        "\n",
        "    Input :\n",
        "    'corpus' - Text corpus on which pre-processing tasks will be performed\n",
        "    'keep_list' - List of words to be retained during cleaning process\n",
        "    'cleaning', 'stemming', 'lemmatization', 'remove_stopwords' - Boolean variables indicating whether a particular task should\n",
        "                                                                  be performed or not\n",
        "    'stem_type' - Choose between Porter stemmer or Snowball(Porter2) stemmer. Default is \"None\", which corresponds to Porter\n",
        "                  Stemmer. 'snowball' corresponds to Snowball Stemmer\n",
        "\n",
        "    Note : Either stemming or lemmatization should be used. There's no benefit of using both of them together\n",
        "\n",
        "    Output : Returns the processed text corpus\n",
        "\n",
        "    '''\n",
        "\n",
        "    if cleaning == True:\n",
        "        corpus = text_clean(corpus, keep_list)\n",
        "\n",
        "    if remove_stopwords == True:\n",
        "        corpus = stopwords_removal(corpus)\n",
        "    else :\n",
        "        corpus = [[x for x in x.split()] for x in corpus]\n",
        "\n",
        "    if lemmatization == True:\n",
        "        corpus = lemmatize(corpus)\n",
        "\n",
        "\n",
        "    if stemming == True:\n",
        "        corpus = stem(corpus, stem_type)\n",
        "\n",
        "    corpus = [' '.join(x) for x in corpus]\n",
        "\n",
        "    return corpus"
      ]
    },
    {
      "cell_type": "code",
      "execution_count": 24,
      "metadata": {
        "id": "z5gNnUS5zf5X"
      },
      "outputs": [],
      "source": [
        "common_dot_words = ['U.S.', 'Mr.', 'Mrs.', 'D.C.']"
      ]
    },
    {
      "cell_type": "code",
      "execution_count": 31,
      "metadata": {
        "id": "cejrdq9Czf5Y",
        "outputId": "048a3435-3398-4a46-8d0c-14ae01165a2b"
      },
      "outputs": [
        {
          "data": {
            "text/plain": [
              "['read natural language process',\n",
              " 'natural language process make computers comprehend language data',\n",
              " 'field natural language process evolve everyday']"
            ]
          },
          "execution_count": 31,
          "metadata": {},
          "output_type": "execute_result"
        }
      ],
      "source": [
        "# Preprocessing with Lemmatization here\n",
        "preprocessed_corpus = preprocess(corpus, keep_list = common_dot_words, stemming = False, stem_type = None,\n",
        "                                lemmatization = True, remove_stopwords = True)\n",
        "preprocessed_corpus "
      ]
    },
    {
      "cell_type": "markdown",
      "metadata": {
        "id": "-c1gwqa4zf5Y"
      },
      "source": [
        "## Building the vocabulary"
      ]
    },
    {
      "cell_type": "code",
      "execution_count": 32,
      "metadata": {
        "id": "-glnurUBzf5Y",
        "outputId": "a3cb19ff-7a64-4f61-d579-b38c53c43af0"
      },
      "outputs": [
        {
          "name": "stdout",
          "output_type": "stream",
          "text": [
            "['computers', 'field', 'comprehend', 'evolve', 'natural', 'make', 'data', 'process', 'everyday', 'read', 'language']\n"
          ]
        }
      ],
      "source": [
        "set_of_words = set()\n",
        "for sentence in preprocessed_corpus:\n",
        "    for word in sentence.split():\n",
        "        set_of_words.add(word)\n",
        "vocab = list(set_of_words)\n",
        "print(vocab)"
      ]
    },
    {
      "cell_type": "markdown",
      "metadata": {
        "id": "Zv1XiW8Czf5Y"
      },
      "source": [
        "## Fetching the position of each word in the vocabulary"
      ]
    },
    {
      "cell_type": "code",
      "execution_count": 33,
      "metadata": {
        "id": "9qgc3nLozf5Z",
        "outputId": "7cd13029-ad1f-43ab-eec9-c9fabc4753c2"
      },
      "outputs": [
        {
          "name": "stdout",
          "output_type": "stream",
          "text": [
            "{'computers': 0, 'field': 1, 'comprehend': 2, 'evolve': 3, 'natural': 4, 'make': 5, 'data': 6, 'process': 7, 'everyday': 8, 'read': 9, 'language': 10}\n"
          ]
        }
      ],
      "source": [
        "position = {}\n",
        "for i, token in enumerate(vocab):\n",
        "    position[token] = i\n",
        "print(position)"
      ]
    },
    {
      "cell_type": "markdown",
      "metadata": {
        "id": "T9R3Cc41zf5Z"
      },
      "source": [
        "## Creating a matrix to hold the Bag of Words representation"
      ]
    },
    {
      "cell_type": "code",
      "execution_count": 34,
      "metadata": {
        "id": "qdhcxlZxzf5Z"
      },
      "outputs": [],
      "source": [
        "bow_matrix = np.zeros((len(preprocessed_corpus), len(vocab)))"
      ]
    },
    {
      "cell_type": "code",
      "execution_count": 35,
      "metadata": {
        "id": "CbnHmJkzzf5Z"
      },
      "outputs": [],
      "source": [
        "for i, preprocessed_sentence in enumerate(preprocessed_corpus):\n",
        "    for token in preprocessed_sentence.split():\n",
        "        bow_matrix[i][position[token]] = bow_matrix[i][position[token]] + 1"
      ]
    },
    {
      "cell_type": "markdown",
      "metadata": {
        "id": "XnkX6S0pzf5Z"
      },
      "source": [
        "## Let's look at our Bag of Words representation"
      ]
    },
    {
      "cell_type": "code",
      "execution_count": 36,
      "metadata": {
        "id": "yyen2CjHzf5Z",
        "outputId": "2c018bd3-919b-4f3e-9ed8-3e841a3613f1"
      },
      "outputs": [
        {
          "data": {
            "text/plain": [
              "array([[0., 0., 0., 0., 1., 0., 0., 1., 0., 1., 1.],\n",
              "       [1., 0., 1., 0., 1., 1., 1., 1., 0., 0., 2.],\n",
              "       [0., 1., 0., 1., 1., 0., 0., 1., 1., 0., 1.]])"
            ]
          },
          "execution_count": 36,
          "metadata": {},
          "output_type": "execute_result"
        }
      ],
      "source": [
        "bow_matrix"
      ]
    },
    {
      "cell_type": "markdown",
      "metadata": {
        "id": "xctS1K-nzf5a"
      },
      "source": [
        "## Inference\n",
        "\n",
        "Taking example of column 2 in the bow_matrix, the values are 1, 2 and 1 respectively.\n",
        "\n",
        "Column 2 caters to index 2 corresponding to the word *language*.\n",
        "\n",
        "*language* occurs **once, twice and again once** in the the sentences 1, 2 and 3 respectively.\n",
        "\n",
        "Hope that provides you insights into how the Bag of Words model works."
      ]
    }
  ],
  "metadata": {
    "colab": {
      "provenance": []
    },
    "kernelspec": {
      "display_name": "base",
      "language": "python",
      "name": "python3"
    },
    "language_info": {
      "codemirror_mode": {
        "name": "ipython",
        "version": 3
      },
      "file_extension": ".py",
      "mimetype": "text/x-python",
      "name": "python",
      "nbconvert_exporter": "python",
      "pygments_lexer": "ipython3",
      "version": "3.12.5"
    }
  },
  "nbformat": 4,
  "nbformat_minor": 0
}
