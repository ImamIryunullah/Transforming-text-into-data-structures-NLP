{
 "cells": [
  {
   "cell_type": "markdown",
   "metadata": {},
   "source": [
    "## Matrix Representation "
   ]
  },
  {
   "cell_type": "code",
   "execution_count": 2,
   "metadata": {},
   "outputs": [
    {
     "name": "stdout",
     "output_type": "stream",
     "text": [
      "Jumlah cerita: 33\n",
      "Jumlah kata unik: 5257\n",
      "Daftar kata: ['kisah', 'ini', 'menceritakan', 'tentang', 'perjalanan', 'raden', 'sitija', 'dan', 'dewi', 'sitisundari', 'dua', 'anak', 'batari', 'pretiwi', 'yang', 'mencari', 'ayah', 'mereka', 'yaitu', 'batara', 'wisnu', 'dalam', 'diri', 'prabu', 'kresna', 'berhasil', 'mengalahkan', 'bomantara', 'narakasura', 'sehingga']\n",
      "Matrix bentuk: (33, 5257)\n",
      "Contoh representasi cerita pertama:\n",
      " [[0 0 0 ... 0 0 0]]\n"
     ]
    }
   ],
   "source": [
    "from sklearn.feature_extraction.text import CountVectorizer\n",
    "import json\n",
    "\n",
    "with open(\"output/pandawa_dataset_v2.json\", \"r\", encoding=\"utf-8\") as f:\n",
    "    data = json.load(f)\n",
    "\n",
    "corpus = [entry[\"answer\"] for entry in data]\n",
    "vectorizer = CountVectorizer(stop_words='english')\n",
    "\n",
    "X_vec = vectorizer.fit_transform(corpus)\n",
    "\n",
    "print(\"Jumlah cerita:\", len(corpus))\n",
    "print(\"Jumlah kata unik:\", len(vectorizer.vocabulary_))\n",
    "print(\"Daftar kata:\", list(vectorizer.vocabulary_.keys())[:30])  \n",
    "print(\"Matrix bentuk:\", X_vec.shape)\n",
    "print(\"Contoh representasi cerita pertama:\\n\", X_vec[0].todense())\n"
   ]
  }
 ],
 "metadata": {
  "kernelspec": {
   "display_name": "base",
   "language": "python",
   "name": "python3"
  },
  "language_info": {
   "codemirror_mode": {
    "name": "ipython",
    "version": 3
   },
   "file_extension": ".py",
   "mimetype": "text/x-python",
   "name": "python",
   "nbconvert_exporter": "python",
   "pygments_lexer": "ipython3",
   "version": "3.12.5"
  }
 },
 "nbformat": 4,
 "nbformat_minor": 2
}
