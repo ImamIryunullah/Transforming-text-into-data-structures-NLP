{
 "cells": [
  {
   "cell_type": "markdown",
   "metadata": {},
   "source": [
    "NAMA ANGGOTA KELOMPOK: ***1. M. IMAM IRYUNULLAH (220535600547) 2. Muhammad Azmi Nur Iman (220535608943)***"
   ]
  },
  {
   "cell_type": "code",
   "execution_count": null,
   "metadata": {
    "vscode": {
     "languageId": "plaintext"
    }
   },
   "outputs": [],
   "source": [
    "***TUGAS KELOMPOK NLP MINGGU KE 3***"
   ]
  }
 ],
 "metadata": {
  "language_info": {
   "name": "python"
  }
 },
 "nbformat": 4,
 "nbformat_minor": 2
}
